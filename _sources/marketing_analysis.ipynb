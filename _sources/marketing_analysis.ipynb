{
 "cells": [
  {
   "cell_type": "markdown",
   "id": "f2aca96e",
   "metadata": {},
   "source": [
    "# Análisis de Datos de Marketing\n",
    "Este cuaderno realiza un análisis de datos básico utilizando un conjunto de datos de marketing de Kaggle. El análisis incluirá la carga de datos, la inspección y limpieza de datos, un análisis exploratorio de datos (EDA), y visualización de datos para comprender mejor las características del conjunto de datos y el comportamiento del cliente."
   ]
  },
  {
   "cell_type": "markdown",
   "id": "c7e7eb11",
   "metadata": {},
   "source": [
    "## 1. Carga de datos\n",
    "Cargamos el conjunto de datos desde un archivo CSV en un DataFrame de pandas. Este conjunto de datos contiene información sobre las campañas de marketing y las respuestas de los clientes."
   ]
  },
  {
   "cell_type": "markdown",
   "id": "642b72ba",
   "metadata": {},
   "source": [
    "## 2. Inspección y limpieza de datos\n",
    "Realizamos una inspección inicial de los datos para entender su estructura. Luego, revisamos y manejamos los valores faltantes o nulos."
   ]
  },
  {
   "cell_type": "markdown",
   "id": "0bc57757",
   "metadata": {},
   "source": [
    "## 3. Análisis exploratorio de datos (EDA)\n",
    "Exploramos los datos estadísticamente y visualmente para identificar patrones o anomalías."
   ]
  },
  {
   "cell_type": "markdown",
   "id": "e18a2195",
   "metadata": {},
   "source": [
    "## 4. Visualización de datos\n",
    "Visualizamos las relaciones entre diferentes variables para comprender mejor los datos y encontrar insights."
   ]
  },
  {
   "cell_type": "code",
   "execution_count": null,
   "id": "ecc19204",
   "metadata": {},
   "outputs": [],
   "source": [
    "# Importar las bibliotecas necesarias\n",
    "import pandas as pd\n",
    "import matplotlib.pyplot as plt"
   ]
  },
  {
   "cell_type": "code",
   "execution_count": null,
   "id": "3b43f82a",
   "metadata": {},
   "outputs": [],
   "source": [
    "# Reemplaza 'path_to_file.csv' con la ruta de tu archivo CSV\n",
    "df = pd.read_csv('path_to_file.csv')"
   ]
  },
  {
   "cell_type": "code",
   "execution_count": null,
   "id": "c1e582ac",
   "metadata": {},
   "outputs": [],
   "source": [
    "# Inspeccionar las primeras filas del DataFrame\n",
    "print(df.head())\n",
    "\n",
    "# Verificar la cantidad de valores nulos en cada columna\n",
    "print(df.isnull().sum())\n",
    "\n",
    "# Decidir una estrategia para manejar los valores nulos (por ejemplo, llenarlos con la media o mediana)\n",
    "# df['column_with_nulls'] = df['column_with_nulls'].fillna(df['column_with_nulls'].mean())"
   ]
  },
  {
   "cell_type": "code",
   "execution_count": null,
   "id": "92113b6f",
   "metadata": {},
   "outputs": [],
   "source": [
    "# Estadísticas descriptivas de las variables numéricas\n",
    "print(df.describe())\n",
    "\n",
    "# Histograma de una variable numérica, por ejemplo 'Income'\n",
    "df['Income'].hist(bins=50)\n",
    "plt.title('Distribución de Ingresos')\n",
    "plt.xlabel('Ingreso')\n",
    "plt.ylabel('Frecuencia')\n",
    "plt.show()"
   ]
  },
  {
   "cell_type": "code",
   "execution_count": null,
   "id": "dfe6b26d",
   "metadata": {},
   "outputs": [],
   "source": [
    "# Comparación de respuestas en campañas de marketing\n",
    "campaign_cols = ['AcceptedCmp1', 'AcceptedCmp2', 'AcceptedCmp3', 'AcceptedCmp4', 'AcceptedCmp5', 'Response']\n",
    "df[campaign_cols].sum().plot(kind='bar')\n",
    "plt.title('Respuestas en Campañas de Marketing')\n",
    "plt.xlabel('Campaña')\n",
    "plt.ylabel('Número de Respuestas')\n",
    "plt.show()"
   ]
  }
 ],
 "metadata": {},
 "nbformat": 4,
 "nbformat_minor": 5
}
